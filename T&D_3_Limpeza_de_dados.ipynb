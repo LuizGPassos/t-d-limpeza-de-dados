{
  "cells": [
    {
      "cell_type": "markdown",
      "source": [
        "# Dependências ⚙"
      ],
      "metadata": {
        "id": "aPrMmXwT921w"
      }
    },
    {
      "cell_type": "code",
      "execution_count": null,
      "metadata": {
        "colab": {
          "base_uri": "https://localhost:8080/"
        },
        "id": "9bDIPty1AOLI",
        "outputId": "9cae5039-06ec-499f-9784-da99888fc87e"
      },
      "outputs": [
        {
          "output_type": "stream",
          "name": "stdout",
          "text": [
            "Requirement already satisfied: pyspark==3.5.0 in /usr/local/lib/python3.10/dist-packages (3.5.0)\n",
            "Requirement already satisfied: py4j==0.10.9.7 in /usr/local/lib/python3.10/dist-packages (from pyspark==3.5.0) (0.10.9.7)\n"
          ]
        }
      ],
      "source": [
        "!pip install pyspark==3.5.0"
      ]
    },
    {
      "cell_type": "code",
      "execution_count": null,
      "metadata": {
        "id": "VZCAMnPckxzv"
      },
      "outputs": [],
      "source": [
        "from pyspark.sql import SparkSession\n",
        "import pyspark.sql.functions as F\n",
        "from pyspark.sql.window import Window\n",
        "from pyspark.sql.types import IntegerType\n",
        "import pandas as pd\n",
        "\n",
        "sc = SparkSession.builder.master('local[*]').getOrCreate()"
      ]
    },
    {
      "cell_type": "markdown",
      "source": [
        "# Dataset 🎲"
      ],
      "metadata": {
        "id": "da2i2ZFX95cZ"
      }
    },
    {
      "cell_type": "code",
      "source": [
        "df_pd = pd.read_csv(\"/content/salario_dataset.csv\")\n",
        "df_pd"
      ],
      "metadata": {
        "colab": {
          "base_uri": "https://localhost:8080/",
          "height": 424
        },
        "id": "RlGtxxcBHZ1-",
        "outputId": "dd9f33d4-b36e-43a7-91c8-532a2ba6e616"
      },
      "execution_count": null,
      "outputs": [
        {
          "output_type": "execute_result",
          "data": {
            "text/plain": [
              "               empresa          cargo      salario      nome  sobrenome  \\\n",
              "0    Cyberdyne Systems   Especialista  8931.925511     Lucas      Souza   \n",
              "1            Acme Inc.     Assistente  8400.676087   Gustavo   Oliveira   \n",
              "2    Wayne Enterprises     Estagiário  2954.169316      João   Ferreira   \n",
              "3            Acme Inc.     Supervisor  4868.474440     Lucas     Santos   \n",
              "4    Stark Enterprises       Analista  6249.850033  Fernanda  Rodrigues   \n",
              "..                 ...            ...          ...       ...        ...   \n",
              "995             Oscorp        Gerente  6775.979894  Gabriela    Pereira   \n",
              "996          Acme Inc.        Diretor  7972.585838   Gustavo    Pereira   \n",
              "997          Acme Inc.  Desenvolvedor  9700.553127     Lucas   Ferreira   \n",
              "998   Stark Industries     Supervisor  3594.019440     Maria    Almeida   \n",
              "999  Wayne Enterprises        Diretor  4144.788049  Gabriela      Silva   \n",
              "\n",
              "     anos_de_experiencia                              resumo_da_funcao  \n",
              "0                   -1.0        Apoia a equipe em atividades de rotina  \n",
              "1                    4.0        Apoia a equipe em atividades de rotina  \n",
              "2                   19.0               Analisa dados e gera relatórios  \n",
              "3                    8.0   Auxilia a equipe em tarefas administrativas  \n",
              "4                    6.0             Supervisiona a equipe e processos  \n",
              "..                   ...                                           ...  \n",
              "995                  6.0               Analisa dados e gera relatórios  \n",
              "996                  1.0               Desenvolve soluções de software  \n",
              "997                  NaN  Responsável pela gestão da equipe e projetos  \n",
              "998                  4.0               Desenvolve soluções de software  \n",
              "999                 12.0               Analisa dados e gera relatórios  \n",
              "\n",
              "[1000 rows x 7 columns]"
            ],
            "text/html": [
              "\n",
              "  <div id=\"df-4a14b066-7046-4159-911f-796e2bbba290\" class=\"colab-df-container\">\n",
              "    <div>\n",
              "<style scoped>\n",
              "    .dataframe tbody tr th:only-of-type {\n",
              "        vertical-align: middle;\n",
              "    }\n",
              "\n",
              "    .dataframe tbody tr th {\n",
              "        vertical-align: top;\n",
              "    }\n",
              "\n",
              "    .dataframe thead th {\n",
              "        text-align: right;\n",
              "    }\n",
              "</style>\n",
              "<table border=\"1\" class=\"dataframe\">\n",
              "  <thead>\n",
              "    <tr style=\"text-align: right;\">\n",
              "      <th></th>\n",
              "      <th>empresa</th>\n",
              "      <th>cargo</th>\n",
              "      <th>salario</th>\n",
              "      <th>nome</th>\n",
              "      <th>sobrenome</th>\n",
              "      <th>anos_de_experiencia</th>\n",
              "      <th>resumo_da_funcao</th>\n",
              "    </tr>\n",
              "  </thead>\n",
              "  <tbody>\n",
              "    <tr>\n",
              "      <th>0</th>\n",
              "      <td>Cyberdyne Systems</td>\n",
              "      <td>Especialista</td>\n",
              "      <td>8931.925511</td>\n",
              "      <td>Lucas</td>\n",
              "      <td>Souza</td>\n",
              "      <td>-1.0</td>\n",
              "      <td>Apoia a equipe em atividades de rotina</td>\n",
              "    </tr>\n",
              "    <tr>\n",
              "      <th>1</th>\n",
              "      <td>Acme Inc.</td>\n",
              "      <td>Assistente</td>\n",
              "      <td>8400.676087</td>\n",
              "      <td>Gustavo</td>\n",
              "      <td>Oliveira</td>\n",
              "      <td>4.0</td>\n",
              "      <td>Apoia a equipe em atividades de rotina</td>\n",
              "    </tr>\n",
              "    <tr>\n",
              "      <th>2</th>\n",
              "      <td>Wayne Enterprises</td>\n",
              "      <td>Estagiário</td>\n",
              "      <td>2954.169316</td>\n",
              "      <td>João</td>\n",
              "      <td>Ferreira</td>\n",
              "      <td>19.0</td>\n",
              "      <td>Analisa dados e gera relatórios</td>\n",
              "    </tr>\n",
              "    <tr>\n",
              "      <th>3</th>\n",
              "      <td>Acme Inc.</td>\n",
              "      <td>Supervisor</td>\n",
              "      <td>4868.474440</td>\n",
              "      <td>Lucas</td>\n",
              "      <td>Santos</td>\n",
              "      <td>8.0</td>\n",
              "      <td>Auxilia a equipe em tarefas administrativas</td>\n",
              "    </tr>\n",
              "    <tr>\n",
              "      <th>4</th>\n",
              "      <td>Stark Enterprises</td>\n",
              "      <td>Analista</td>\n",
              "      <td>6249.850033</td>\n",
              "      <td>Fernanda</td>\n",
              "      <td>Rodrigues</td>\n",
              "      <td>6.0</td>\n",
              "      <td>Supervisiona a equipe e processos</td>\n",
              "    </tr>\n",
              "    <tr>\n",
              "      <th>...</th>\n",
              "      <td>...</td>\n",
              "      <td>...</td>\n",
              "      <td>...</td>\n",
              "      <td>...</td>\n",
              "      <td>...</td>\n",
              "      <td>...</td>\n",
              "      <td>...</td>\n",
              "    </tr>\n",
              "    <tr>\n",
              "      <th>995</th>\n",
              "      <td>Oscorp</td>\n",
              "      <td>Gerente</td>\n",
              "      <td>6775.979894</td>\n",
              "      <td>Gabriela</td>\n",
              "      <td>Pereira</td>\n",
              "      <td>6.0</td>\n",
              "      <td>Analisa dados e gera relatórios</td>\n",
              "    </tr>\n",
              "    <tr>\n",
              "      <th>996</th>\n",
              "      <td>Acme Inc.</td>\n",
              "      <td>Diretor</td>\n",
              "      <td>7972.585838</td>\n",
              "      <td>Gustavo</td>\n",
              "      <td>Pereira</td>\n",
              "      <td>1.0</td>\n",
              "      <td>Desenvolve soluções de software</td>\n",
              "    </tr>\n",
              "    <tr>\n",
              "      <th>997</th>\n",
              "      <td>Acme Inc.</td>\n",
              "      <td>Desenvolvedor</td>\n",
              "      <td>9700.553127</td>\n",
              "      <td>Lucas</td>\n",
              "      <td>Ferreira</td>\n",
              "      <td>NaN</td>\n",
              "      <td>Responsável pela gestão da equipe e projetos</td>\n",
              "    </tr>\n",
              "    <tr>\n",
              "      <th>998</th>\n",
              "      <td>Stark Industries</td>\n",
              "      <td>Supervisor</td>\n",
              "      <td>3594.019440</td>\n",
              "      <td>Maria</td>\n",
              "      <td>Almeida</td>\n",
              "      <td>4.0</td>\n",
              "      <td>Desenvolve soluções de software</td>\n",
              "    </tr>\n",
              "    <tr>\n",
              "      <th>999</th>\n",
              "      <td>Wayne Enterprises</td>\n",
              "      <td>Diretor</td>\n",
              "      <td>4144.788049</td>\n",
              "      <td>Gabriela</td>\n",
              "      <td>Silva</td>\n",
              "      <td>12.0</td>\n",
              "      <td>Analisa dados e gera relatórios</td>\n",
              "    </tr>\n",
              "  </tbody>\n",
              "</table>\n",
              "<p>1000 rows × 7 columns</p>\n",
              "</div>\n",
              "    <div class=\"colab-df-buttons\">\n",
              "\n",
              "  <div class=\"colab-df-container\">\n",
              "    <button class=\"colab-df-convert\" onclick=\"convertToInteractive('df-4a14b066-7046-4159-911f-796e2bbba290')\"\n",
              "            title=\"Convert this dataframe to an interactive table.\"\n",
              "            style=\"display:none;\">\n",
              "\n",
              "  <svg xmlns=\"http://www.w3.org/2000/svg\" height=\"24px\" viewBox=\"0 -960 960 960\">\n",
              "    <path d=\"M120-120v-720h720v720H120Zm60-500h600v-160H180v160Zm220 220h160v-160H400v160Zm0 220h160v-160H400v160ZM180-400h160v-160H180v160Zm440 0h160v-160H620v160ZM180-180h160v-160H180v160Zm440 0h160v-160H620v160Z\"/>\n",
              "  </svg>\n",
              "    </button>\n",
              "\n",
              "  <style>\n",
              "    .colab-df-container {\n",
              "      display:flex;\n",
              "      gap: 12px;\n",
              "    }\n",
              "\n",
              "    .colab-df-convert {\n",
              "      background-color: #E8F0FE;\n",
              "      border: none;\n",
              "      border-radius: 50%;\n",
              "      cursor: pointer;\n",
              "      display: none;\n",
              "      fill: #1967D2;\n",
              "      height: 32px;\n",
              "      padding: 0 0 0 0;\n",
              "      width: 32px;\n",
              "    }\n",
              "\n",
              "    .colab-df-convert:hover {\n",
              "      background-color: #E2EBFA;\n",
              "      box-shadow: 0px 1px 2px rgba(60, 64, 67, 0.3), 0px 1px 3px 1px rgba(60, 64, 67, 0.15);\n",
              "      fill: #174EA6;\n",
              "    }\n",
              "\n",
              "    .colab-df-buttons div {\n",
              "      margin-bottom: 4px;\n",
              "    }\n",
              "\n",
              "    [theme=dark] .colab-df-convert {\n",
              "      background-color: #3B4455;\n",
              "      fill: #D2E3FC;\n",
              "    }\n",
              "\n",
              "    [theme=dark] .colab-df-convert:hover {\n",
              "      background-color: #434B5C;\n",
              "      box-shadow: 0px 1px 3px 1px rgba(0, 0, 0, 0.15);\n",
              "      filter: drop-shadow(0px 1px 2px rgba(0, 0, 0, 0.3));\n",
              "      fill: #FFFFFF;\n",
              "    }\n",
              "  </style>\n",
              "\n",
              "    <script>\n",
              "      const buttonEl =\n",
              "        document.querySelector('#df-4a14b066-7046-4159-911f-796e2bbba290 button.colab-df-convert');\n",
              "      buttonEl.style.display =\n",
              "        google.colab.kernel.accessAllowed ? 'block' : 'none';\n",
              "\n",
              "      async function convertToInteractive(key) {\n",
              "        const element = document.querySelector('#df-4a14b066-7046-4159-911f-796e2bbba290');\n",
              "        const dataTable =\n",
              "          await google.colab.kernel.invokeFunction('convertToInteractive',\n",
              "                                                    [key], {});\n",
              "        if (!dataTable) return;\n",
              "\n",
              "        const docLinkHtml = 'Like what you see? Visit the ' +\n",
              "          '<a target=\"_blank\" href=https://colab.research.google.com/notebooks/data_table.ipynb>data table notebook</a>'\n",
              "          + ' to learn more about interactive tables.';\n",
              "        element.innerHTML = '';\n",
              "        dataTable['output_type'] = 'display_data';\n",
              "        await google.colab.output.renderOutput(dataTable, element);\n",
              "        const docLink = document.createElement('div');\n",
              "        docLink.innerHTML = docLinkHtml;\n",
              "        element.appendChild(docLink);\n",
              "      }\n",
              "    </script>\n",
              "  </div>\n",
              "\n",
              "\n",
              "<div id=\"df-db8e83a4-6d69-435d-b26e-1782db8fb975\">\n",
              "  <button class=\"colab-df-quickchart\" onclick=\"quickchart('df-db8e83a4-6d69-435d-b26e-1782db8fb975')\"\n",
              "            title=\"Suggest charts\"\n",
              "            style=\"display:none;\">\n",
              "\n",
              "<svg xmlns=\"http://www.w3.org/2000/svg\" height=\"24px\"viewBox=\"0 0 24 24\"\n",
              "     width=\"24px\">\n",
              "    <g>\n",
              "        <path d=\"M19 3H5c-1.1 0-2 .9-2 2v14c0 1.1.9 2 2 2h14c1.1 0 2-.9 2-2V5c0-1.1-.9-2-2-2zM9 17H7v-7h2v7zm4 0h-2V7h2v10zm4 0h-2v-4h2v4z\"/>\n",
              "    </g>\n",
              "</svg>\n",
              "  </button>\n",
              "\n",
              "<style>\n",
              "  .colab-df-quickchart {\n",
              "      --bg-color: #E8F0FE;\n",
              "      --fill-color: #1967D2;\n",
              "      --hover-bg-color: #E2EBFA;\n",
              "      --hover-fill-color: #174EA6;\n",
              "      --disabled-fill-color: #AAA;\n",
              "      --disabled-bg-color: #DDD;\n",
              "  }\n",
              "\n",
              "  [theme=dark] .colab-df-quickchart {\n",
              "      --bg-color: #3B4455;\n",
              "      --fill-color: #D2E3FC;\n",
              "      --hover-bg-color: #434B5C;\n",
              "      --hover-fill-color: #FFFFFF;\n",
              "      --disabled-bg-color: #3B4455;\n",
              "      --disabled-fill-color: #666;\n",
              "  }\n",
              "\n",
              "  .colab-df-quickchart {\n",
              "    background-color: var(--bg-color);\n",
              "    border: none;\n",
              "    border-radius: 50%;\n",
              "    cursor: pointer;\n",
              "    display: none;\n",
              "    fill: var(--fill-color);\n",
              "    height: 32px;\n",
              "    padding: 0;\n",
              "    width: 32px;\n",
              "  }\n",
              "\n",
              "  .colab-df-quickchart:hover {\n",
              "    background-color: var(--hover-bg-color);\n",
              "    box-shadow: 0 1px 2px rgba(60, 64, 67, 0.3), 0 1px 3px 1px rgba(60, 64, 67, 0.15);\n",
              "    fill: var(--button-hover-fill-color);\n",
              "  }\n",
              "\n",
              "  .colab-df-quickchart-complete:disabled,\n",
              "  .colab-df-quickchart-complete:disabled:hover {\n",
              "    background-color: var(--disabled-bg-color);\n",
              "    fill: var(--disabled-fill-color);\n",
              "    box-shadow: none;\n",
              "  }\n",
              "\n",
              "  .colab-df-spinner {\n",
              "    border: 2px solid var(--fill-color);\n",
              "    border-color: transparent;\n",
              "    border-bottom-color: var(--fill-color);\n",
              "    animation:\n",
              "      spin 1s steps(1) infinite;\n",
              "  }\n",
              "\n",
              "  @keyframes spin {\n",
              "    0% {\n",
              "      border-color: transparent;\n",
              "      border-bottom-color: var(--fill-color);\n",
              "      border-left-color: var(--fill-color);\n",
              "    }\n",
              "    20% {\n",
              "      border-color: transparent;\n",
              "      border-left-color: var(--fill-color);\n",
              "      border-top-color: var(--fill-color);\n",
              "    }\n",
              "    30% {\n",
              "      border-color: transparent;\n",
              "      border-left-color: var(--fill-color);\n",
              "      border-top-color: var(--fill-color);\n",
              "      border-right-color: var(--fill-color);\n",
              "    }\n",
              "    40% {\n",
              "      border-color: transparent;\n",
              "      border-right-color: var(--fill-color);\n",
              "      border-top-color: var(--fill-color);\n",
              "    }\n",
              "    60% {\n",
              "      border-color: transparent;\n",
              "      border-right-color: var(--fill-color);\n",
              "    }\n",
              "    80% {\n",
              "      border-color: transparent;\n",
              "      border-right-color: var(--fill-color);\n",
              "      border-bottom-color: var(--fill-color);\n",
              "    }\n",
              "    90% {\n",
              "      border-color: transparent;\n",
              "      border-bottom-color: var(--fill-color);\n",
              "    }\n",
              "  }\n",
              "</style>\n",
              "\n",
              "  <script>\n",
              "    async function quickchart(key) {\n",
              "      const quickchartButtonEl =\n",
              "        document.querySelector('#' + key + ' button');\n",
              "      quickchartButtonEl.disabled = true;  // To prevent multiple clicks.\n",
              "      quickchartButtonEl.classList.add('colab-df-spinner');\n",
              "      try {\n",
              "        const charts = await google.colab.kernel.invokeFunction(\n",
              "            'suggestCharts', [key], {});\n",
              "      } catch (error) {\n",
              "        console.error('Error during call to suggestCharts:', error);\n",
              "      }\n",
              "      quickchartButtonEl.classList.remove('colab-df-spinner');\n",
              "      quickchartButtonEl.classList.add('colab-df-quickchart-complete');\n",
              "    }\n",
              "    (() => {\n",
              "      let quickchartButtonEl =\n",
              "        document.querySelector('#df-db8e83a4-6d69-435d-b26e-1782db8fb975 button');\n",
              "      quickchartButtonEl.style.display =\n",
              "        google.colab.kernel.accessAllowed ? 'block' : 'none';\n",
              "    })();\n",
              "  </script>\n",
              "</div>\n",
              "\n",
              "  <div id=\"id_d37bed65-a1db-452a-a8c5-517f45a0f322\">\n",
              "    <style>\n",
              "      .colab-df-generate {\n",
              "        background-color: #E8F0FE;\n",
              "        border: none;\n",
              "        border-radius: 50%;\n",
              "        cursor: pointer;\n",
              "        display: none;\n",
              "        fill: #1967D2;\n",
              "        height: 32px;\n",
              "        padding: 0 0 0 0;\n",
              "        width: 32px;\n",
              "      }\n",
              "\n",
              "      .colab-df-generate:hover {\n",
              "        background-color: #E2EBFA;\n",
              "        box-shadow: 0px 1px 2px rgba(60, 64, 67, 0.3), 0px 1px 3px 1px rgba(60, 64, 67, 0.15);\n",
              "        fill: #174EA6;\n",
              "      }\n",
              "\n",
              "      [theme=dark] .colab-df-generate {\n",
              "        background-color: #3B4455;\n",
              "        fill: #D2E3FC;\n",
              "      }\n",
              "\n",
              "      [theme=dark] .colab-df-generate:hover {\n",
              "        background-color: #434B5C;\n",
              "        box-shadow: 0px 1px 3px 1px rgba(0, 0, 0, 0.15);\n",
              "        filter: drop-shadow(0px 1px 2px rgba(0, 0, 0, 0.3));\n",
              "        fill: #FFFFFF;\n",
              "      }\n",
              "    </style>\n",
              "    <button class=\"colab-df-generate\" onclick=\"generateWithVariable('df_pd')\"\n",
              "            title=\"Generate code using this dataframe.\"\n",
              "            style=\"display:none;\">\n",
              "\n",
              "  <svg xmlns=\"http://www.w3.org/2000/svg\" height=\"24px\"viewBox=\"0 0 24 24\"\n",
              "       width=\"24px\">\n",
              "    <path d=\"M7,19H8.4L18.45,9,17,7.55,7,17.6ZM5,21V16.75L18.45,3.32a2,2,0,0,1,2.83,0l1.4,1.43a1.91,1.91,0,0,1,.58,1.4,1.91,1.91,0,0,1-.58,1.4L9.25,21ZM18.45,9,17,7.55Zm-12,3A5.31,5.31,0,0,0,4.9,8.1,5.31,5.31,0,0,0,1,6.5,5.31,5.31,0,0,0,4.9,4.9,5.31,5.31,0,0,0,6.5,1,5.31,5.31,0,0,0,8.1,4.9,5.31,5.31,0,0,0,12,6.5,5.46,5.46,0,0,0,6.5,12Z\"/>\n",
              "  </svg>\n",
              "    </button>\n",
              "    <script>\n",
              "      (() => {\n",
              "      const buttonEl =\n",
              "        document.querySelector('#id_d37bed65-a1db-452a-a8c5-517f45a0f322 button.colab-df-generate');\n",
              "      buttonEl.style.display =\n",
              "        google.colab.kernel.accessAllowed ? 'block' : 'none';\n",
              "\n",
              "      buttonEl.onclick = () => {\n",
              "        google.colab.notebook.generateWithVariable('df_pd');\n",
              "      }\n",
              "      })();\n",
              "    </script>\n",
              "  </div>\n",
              "\n",
              "    </div>\n",
              "  </div>\n"
            ],
            "application/vnd.google.colaboratory.intrinsic+json": {
              "type": "dataframe",
              "variable_name": "df_pd",
              "summary": "{\n  \"name\": \"df_pd\",\n  \"rows\": 1000,\n  \"fields\": [\n    {\n      \"column\": \"empresa\",\n      \"properties\": {\n        \"dtype\": \"category\",\n        \"num_unique_values\": 11,\n        \"samples\": [\n          \"Globex Corp.\",\n          \"Cyberdyne Systems\",\n          \"Aperture Science\"\n        ],\n        \"semantic_type\": \"\",\n        \"description\": \"\"\n      }\n    },\n    {\n      \"column\": \"cargo\",\n      \"properties\": {\n        \"dtype\": \"category\",\n        \"num_unique_values\": 11,\n        \"samples\": [\n          \"Diretor\",\n          \"Especialista\",\n          \"Consultor\"\n        ],\n        \"semantic_type\": \"\",\n        \"description\": \"\"\n      }\n    },\n    {\n      \"column\": \"salario\",\n      \"properties\": {\n        \"dtype\": \"number\",\n        \"std\": 2423.0081097974457,\n        \"min\": -1.0,\n        \"max\": 9969.04068556819,\n        \"num_unique_values\": 932,\n        \"samples\": [\n          4901.0462567693685,\n          4686.040875505758,\n          6807.4836977820105\n        ],\n        \"semantic_type\": \"\",\n        \"description\": \"\"\n      }\n    },\n    {\n      \"column\": \"nome\",\n      \"properties\": {\n        \"dtype\": \"category\",\n        \"num_unique_values\": 10,\n        \"samples\": [\n          \"Isabela\",\n          \"Gustavo\",\n          \"Pedro\"\n        ],\n        \"semantic_type\": \"\",\n        \"description\": \"\"\n      }\n    },\n    {\n      \"column\": \"sobrenome\",\n      \"properties\": {\n        \"dtype\": \"category\",\n        \"num_unique_values\": 10,\n        \"samples\": [\n          \"Martins\",\n          \"Oliveira\",\n          \"Silva\"\n        ],\n        \"semantic_type\": \"\",\n        \"description\": \"\"\n      }\n    },\n    {\n      \"column\": \"anos_de_experiencia\",\n      \"properties\": {\n        \"dtype\": \"number\",\n        \"std\": 5.589868760756664,\n        \"min\": -1.0,\n        \"max\": 19.0,\n        \"num_unique_values\": 20,\n        \"samples\": [\n          -1.0,\n          1.0,\n          15.0\n        ],\n        \"semantic_type\": \"\",\n        \"description\": \"\"\n      }\n    },\n    {\n      \"column\": \"resumo_da_funcao\",\n      \"properties\": {\n        \"dtype\": \"category\",\n        \"num_unique_values\": 10,\n        \"samples\": [\n          \"Especialista em estrat\\u00e9gia e planejamento\",\n          \"Analisa dados e gera relat\\u00f3rios\",\n          \"Lidera a estrat\\u00e9gia e tomada de decis\\u00f5es\"\n        ],\n        \"semantic_type\": \"\",\n        \"description\": \"\"\n      }\n    }\n  ]\n}"
            }
          },
          "metadata": {},
          "execution_count": 38
        }
      ]
    },
    {
      "cell_type": "code",
      "source": [
        "df = sc.read.csv(\"/content/salario_dataset.csv\")\n",
        "df.show()"
      ],
      "metadata": {
        "colab": {
          "base_uri": "https://localhost:8080/"
        },
        "id": "7XQydwKH15z3",
        "outputId": "28b143aa-d318-48e4-b1a8-864eb841fdc6"
      },
      "execution_count": null,
      "outputs": [
        {
          "output_type": "stream",
          "name": "stdout",
          "text": [
            "+--------------------+-------------+------------------+--------+---------+-------------------+--------------------+\n",
            "|                 _c0|          _c1|               _c2|     _c3|      _c4|                _c5|                 _c6|\n",
            "+--------------------+-------------+------------------+--------+---------+-------------------+--------------------+\n",
            "|             empresa|        cargo|           salario|    nome|sobrenome|anos_de_experiencia|    resumo_da_funcao|\n",
            "|   Cyberdyne Systems| Especialista| 8931.925510662626|   Lucas|    Souza|               -1.0|Apoia a equipe em...|\n",
            "|           Acme Inc.|   Assistente| 8400.676087373886| Gustavo| Oliveira|                4.0|Apoia a equipe em...|\n",
            "|   Wayne Enterprises|   Estagiário|2954.1693163957525|    João| Ferreira|               19.0|Analisa dados e g...|\n",
            "|           Acme Inc.|   Supervisor| 4868.474439934829|   Lucas|   Santos|                8.0|Auxilia a equipe ...|\n",
            "|   Stark Enterprises|     Analista| 6249.850033405442|Fernanda|Rodrigues|                6.0|Supervisiona a eq...|\n",
            "|      Weyland-Yutani|   Estagiário| 8046.597119915318|Gabriela|   Santos|               12.0|Supervisiona a eq...|\n",
            "|        Globex Corp.|      Diretor|  8853.09543840389|Gabriela|    Silva|                5.0|Supervisiona a eq...|\n",
            "|        Globex Corp.|      Diretor| 5936.416501850379| Gustavo|     NULL|               11.0|Desenvolve soluçõ...|\n",
            "|      Weyland-Yutani|Desenvolvedor|2995.0890487165316|   Pedro|    Silva|                7.0|Lidera a estratég...|\n",
            "|   Stark Enterprises|      Gerente| 3031.691935735332|Gabriela|  Pereira|                8.0|Responsável pela ...|\n",
            "|    Stark Industries|  Coordenador|  9080.80425188356|   Maria|    Costa|                3.0|Lidera a estratég...|\n",
            "|      Weyland-Yutani|      Gerente| 7448.662079256475|   Pedro| Oliveira|               12.0|Supervisiona a eq...|\n",
            "|Umbrella Corporation|      Diretor| 6769.661330872504|   Maria|  Martins|               14.0|Coordena atividad...|\n",
            "|   Wayne Enterprises|      Gerente| 8122.239940784619|     Ana|  Pereira|                6.0|Auxilia a equipe ...|\n",
            "|           Acme Inc.| Especialista|              NULL|Fernanda| Ferreira|               12.0|Especialista em e...|\n",
            "|   Cyberdyne Systems|    Consultor| 6260.678189239469| Isabela|    Souza|               12.0|Supervisiona a eq...|\n",
            "|           Acme Inc.|      Gerente| 6058.854571375418|   Pedro|    Costa|                3.0|Responsável pela ...|\n",
            "|           Acme Inc.|Desenvolvedor| 3805.726962755317|Gabriela|  Pereira|               10.0|Analisa dados e g...|\n",
            "|    Stark Industries|Desenvolvedor|              NULL|     Ana| Oliveira|               16.0|Especialista em e...|\n",
            "+--------------------+-------------+------------------+--------+---------+-------------------+--------------------+\n",
            "only showing top 20 rows\n",
            "\n"
          ]
        }
      ]
    },
    {
      "cell_type": "markdown",
      "source": [
        "# Análise Exploratória 🔍"
      ],
      "metadata": {
        "id": "oWjTIc2p9uW0"
      }
    },
    {
      "cell_type": "markdown",
      "source": [
        "Utilizando Pandas aqui pois a biblioteca tem mais funções para analisar o dataset de forma detalhada"
      ],
      "metadata": {
        "id": "1JOiG0n-Qa-8"
      }
    },
    {
      "cell_type": "code",
      "source": [
        "df_pd.info()"
      ],
      "metadata": {
        "colab": {
          "base_uri": "https://localhost:8080/"
        },
        "id": "Kd6Wpsae2ELI",
        "outputId": "0015d32a-32d4-4d27-e0fb-64df01078054"
      },
      "execution_count": null,
      "outputs": [
        {
          "output_type": "stream",
          "name": "stdout",
          "text": [
            "<class 'pandas.core.frame.DataFrame'>\n",
            "RangeIndex: 1000 entries, 0 to 999\n",
            "Data columns (total 7 columns):\n",
            " #   Column               Non-Null Count  Dtype  \n",
            "---  ------               --------------  -----  \n",
            " 0   empresa              1000 non-null   object \n",
            " 1   cargo                1000 non-null   object \n",
            " 2   salario              951 non-null    float64\n",
            " 3   nome                 991 non-null    object \n",
            " 4   sobrenome            990 non-null    object \n",
            " 5   anos_de_experiencia  971 non-null    float64\n",
            " 6   resumo_da_funcao     1000 non-null   object \n",
            "dtypes: float64(2), object(5)\n",
            "memory usage: 54.8+ KB\n"
          ]
        }
      ]
    },
    {
      "cell_type": "code",
      "source": [
        "df_pd.describe()"
      ],
      "metadata": {
        "colab": {
          "base_uri": "https://localhost:8080/",
          "height": 300
        },
        "id": "QJzpnOXlKOtt",
        "outputId": "d1a28566-a23e-4390-bd69-49f9e4f85aa0"
      },
      "execution_count": null,
      "outputs": [
        {
          "output_type": "execute_result",
          "data": {
            "text/plain": [
              "           salario  anos_de_experiencia\n",
              "count   951.000000           971.000000\n",
              "mean   5926.859377             9.853759\n",
              "std    2423.008110             5.589869\n",
              "min      -1.000000            -1.000000\n",
              "25%    3909.619853             5.000000\n",
              "50%    5959.769344            10.000000\n",
              "75%    8038.717512            15.000000\n",
              "max    9969.040686            19.000000"
            ],
            "text/html": [
              "\n",
              "  <div id=\"df-b1456bd1-528f-48f6-a138-dfcc0531dd71\" class=\"colab-df-container\">\n",
              "    <div>\n",
              "<style scoped>\n",
              "    .dataframe tbody tr th:only-of-type {\n",
              "        vertical-align: middle;\n",
              "    }\n",
              "\n",
              "    .dataframe tbody tr th {\n",
              "        vertical-align: top;\n",
              "    }\n",
              "\n",
              "    .dataframe thead th {\n",
              "        text-align: right;\n",
              "    }\n",
              "</style>\n",
              "<table border=\"1\" class=\"dataframe\">\n",
              "  <thead>\n",
              "    <tr style=\"text-align: right;\">\n",
              "      <th></th>\n",
              "      <th>salario</th>\n",
              "      <th>anos_de_experiencia</th>\n",
              "    </tr>\n",
              "  </thead>\n",
              "  <tbody>\n",
              "    <tr>\n",
              "      <th>count</th>\n",
              "      <td>951.000000</td>\n",
              "      <td>971.000000</td>\n",
              "    </tr>\n",
              "    <tr>\n",
              "      <th>mean</th>\n",
              "      <td>5926.859377</td>\n",
              "      <td>9.853759</td>\n",
              "    </tr>\n",
              "    <tr>\n",
              "      <th>std</th>\n",
              "      <td>2423.008110</td>\n",
              "      <td>5.589869</td>\n",
              "    </tr>\n",
              "    <tr>\n",
              "      <th>min</th>\n",
              "      <td>-1.000000</td>\n",
              "      <td>-1.000000</td>\n",
              "    </tr>\n",
              "    <tr>\n",
              "      <th>25%</th>\n",
              "      <td>3909.619853</td>\n",
              "      <td>5.000000</td>\n",
              "    </tr>\n",
              "    <tr>\n",
              "      <th>50%</th>\n",
              "      <td>5959.769344</td>\n",
              "      <td>10.000000</td>\n",
              "    </tr>\n",
              "    <tr>\n",
              "      <th>75%</th>\n",
              "      <td>8038.717512</td>\n",
              "      <td>15.000000</td>\n",
              "    </tr>\n",
              "    <tr>\n",
              "      <th>max</th>\n",
              "      <td>9969.040686</td>\n",
              "      <td>19.000000</td>\n",
              "    </tr>\n",
              "  </tbody>\n",
              "</table>\n",
              "</div>\n",
              "    <div class=\"colab-df-buttons\">\n",
              "\n",
              "  <div class=\"colab-df-container\">\n",
              "    <button class=\"colab-df-convert\" onclick=\"convertToInteractive('df-b1456bd1-528f-48f6-a138-dfcc0531dd71')\"\n",
              "            title=\"Convert this dataframe to an interactive table.\"\n",
              "            style=\"display:none;\">\n",
              "\n",
              "  <svg xmlns=\"http://www.w3.org/2000/svg\" height=\"24px\" viewBox=\"0 -960 960 960\">\n",
              "    <path d=\"M120-120v-720h720v720H120Zm60-500h600v-160H180v160Zm220 220h160v-160H400v160Zm0 220h160v-160H400v160ZM180-400h160v-160H180v160Zm440 0h160v-160H620v160ZM180-180h160v-160H180v160Zm440 0h160v-160H620v160Z\"/>\n",
              "  </svg>\n",
              "    </button>\n",
              "\n",
              "  <style>\n",
              "    .colab-df-container {\n",
              "      display:flex;\n",
              "      gap: 12px;\n",
              "    }\n",
              "\n",
              "    .colab-df-convert {\n",
              "      background-color: #E8F0FE;\n",
              "      border: none;\n",
              "      border-radius: 50%;\n",
              "      cursor: pointer;\n",
              "      display: none;\n",
              "      fill: #1967D2;\n",
              "      height: 32px;\n",
              "      padding: 0 0 0 0;\n",
              "      width: 32px;\n",
              "    }\n",
              "\n",
              "    .colab-df-convert:hover {\n",
              "      background-color: #E2EBFA;\n",
              "      box-shadow: 0px 1px 2px rgba(60, 64, 67, 0.3), 0px 1px 3px 1px rgba(60, 64, 67, 0.15);\n",
              "      fill: #174EA6;\n",
              "    }\n",
              "\n",
              "    .colab-df-buttons div {\n",
              "      margin-bottom: 4px;\n",
              "    }\n",
              "\n",
              "    [theme=dark] .colab-df-convert {\n",
              "      background-color: #3B4455;\n",
              "      fill: #D2E3FC;\n",
              "    }\n",
              "\n",
              "    [theme=dark] .colab-df-convert:hover {\n",
              "      background-color: #434B5C;\n",
              "      box-shadow: 0px 1px 3px 1px rgba(0, 0, 0, 0.15);\n",
              "      filter: drop-shadow(0px 1px 2px rgba(0, 0, 0, 0.3));\n",
              "      fill: #FFFFFF;\n",
              "    }\n",
              "  </style>\n",
              "\n",
              "    <script>\n",
              "      const buttonEl =\n",
              "        document.querySelector('#df-b1456bd1-528f-48f6-a138-dfcc0531dd71 button.colab-df-convert');\n",
              "      buttonEl.style.display =\n",
              "        google.colab.kernel.accessAllowed ? 'block' : 'none';\n",
              "\n",
              "      async function convertToInteractive(key) {\n",
              "        const element = document.querySelector('#df-b1456bd1-528f-48f6-a138-dfcc0531dd71');\n",
              "        const dataTable =\n",
              "          await google.colab.kernel.invokeFunction('convertToInteractive',\n",
              "                                                    [key], {});\n",
              "        if (!dataTable) return;\n",
              "\n",
              "        const docLinkHtml = 'Like what you see? Visit the ' +\n",
              "          '<a target=\"_blank\" href=https://colab.research.google.com/notebooks/data_table.ipynb>data table notebook</a>'\n",
              "          + ' to learn more about interactive tables.';\n",
              "        element.innerHTML = '';\n",
              "        dataTable['output_type'] = 'display_data';\n",
              "        await google.colab.output.renderOutput(dataTable, element);\n",
              "        const docLink = document.createElement('div');\n",
              "        docLink.innerHTML = docLinkHtml;\n",
              "        element.appendChild(docLink);\n",
              "      }\n",
              "    </script>\n",
              "  </div>\n",
              "\n",
              "\n",
              "<div id=\"df-80085832-2f28-494e-8aaf-c796029ad3f4\">\n",
              "  <button class=\"colab-df-quickchart\" onclick=\"quickchart('df-80085832-2f28-494e-8aaf-c796029ad3f4')\"\n",
              "            title=\"Suggest charts\"\n",
              "            style=\"display:none;\">\n",
              "\n",
              "<svg xmlns=\"http://www.w3.org/2000/svg\" height=\"24px\"viewBox=\"0 0 24 24\"\n",
              "     width=\"24px\">\n",
              "    <g>\n",
              "        <path d=\"M19 3H5c-1.1 0-2 .9-2 2v14c0 1.1.9 2 2 2h14c1.1 0 2-.9 2-2V5c0-1.1-.9-2-2-2zM9 17H7v-7h2v7zm4 0h-2V7h2v10zm4 0h-2v-4h2v4z\"/>\n",
              "    </g>\n",
              "</svg>\n",
              "  </button>\n",
              "\n",
              "<style>\n",
              "  .colab-df-quickchart {\n",
              "      --bg-color: #E8F0FE;\n",
              "      --fill-color: #1967D2;\n",
              "      --hover-bg-color: #E2EBFA;\n",
              "      --hover-fill-color: #174EA6;\n",
              "      --disabled-fill-color: #AAA;\n",
              "      --disabled-bg-color: #DDD;\n",
              "  }\n",
              "\n",
              "  [theme=dark] .colab-df-quickchart {\n",
              "      --bg-color: #3B4455;\n",
              "      --fill-color: #D2E3FC;\n",
              "      --hover-bg-color: #434B5C;\n",
              "      --hover-fill-color: #FFFFFF;\n",
              "      --disabled-bg-color: #3B4455;\n",
              "      --disabled-fill-color: #666;\n",
              "  }\n",
              "\n",
              "  .colab-df-quickchart {\n",
              "    background-color: var(--bg-color);\n",
              "    border: none;\n",
              "    border-radius: 50%;\n",
              "    cursor: pointer;\n",
              "    display: none;\n",
              "    fill: var(--fill-color);\n",
              "    height: 32px;\n",
              "    padding: 0;\n",
              "    width: 32px;\n",
              "  }\n",
              "\n",
              "  .colab-df-quickchart:hover {\n",
              "    background-color: var(--hover-bg-color);\n",
              "    box-shadow: 0 1px 2px rgba(60, 64, 67, 0.3), 0 1px 3px 1px rgba(60, 64, 67, 0.15);\n",
              "    fill: var(--button-hover-fill-color);\n",
              "  }\n",
              "\n",
              "  .colab-df-quickchart-complete:disabled,\n",
              "  .colab-df-quickchart-complete:disabled:hover {\n",
              "    background-color: var(--disabled-bg-color);\n",
              "    fill: var(--disabled-fill-color);\n",
              "    box-shadow: none;\n",
              "  }\n",
              "\n",
              "  .colab-df-spinner {\n",
              "    border: 2px solid var(--fill-color);\n",
              "    border-color: transparent;\n",
              "    border-bottom-color: var(--fill-color);\n",
              "    animation:\n",
              "      spin 1s steps(1) infinite;\n",
              "  }\n",
              "\n",
              "  @keyframes spin {\n",
              "    0% {\n",
              "      border-color: transparent;\n",
              "      border-bottom-color: var(--fill-color);\n",
              "      border-left-color: var(--fill-color);\n",
              "    }\n",
              "    20% {\n",
              "      border-color: transparent;\n",
              "      border-left-color: var(--fill-color);\n",
              "      border-top-color: var(--fill-color);\n",
              "    }\n",
              "    30% {\n",
              "      border-color: transparent;\n",
              "      border-left-color: var(--fill-color);\n",
              "      border-top-color: var(--fill-color);\n",
              "      border-right-color: var(--fill-color);\n",
              "    }\n",
              "    40% {\n",
              "      border-color: transparent;\n",
              "      border-right-color: var(--fill-color);\n",
              "      border-top-color: var(--fill-color);\n",
              "    }\n",
              "    60% {\n",
              "      border-color: transparent;\n",
              "      border-right-color: var(--fill-color);\n",
              "    }\n",
              "    80% {\n",
              "      border-color: transparent;\n",
              "      border-right-color: var(--fill-color);\n",
              "      border-bottom-color: var(--fill-color);\n",
              "    }\n",
              "    90% {\n",
              "      border-color: transparent;\n",
              "      border-bottom-color: var(--fill-color);\n",
              "    }\n",
              "  }\n",
              "</style>\n",
              "\n",
              "  <script>\n",
              "    async function quickchart(key) {\n",
              "      const quickchartButtonEl =\n",
              "        document.querySelector('#' + key + ' button');\n",
              "      quickchartButtonEl.disabled = true;  // To prevent multiple clicks.\n",
              "      quickchartButtonEl.classList.add('colab-df-spinner');\n",
              "      try {\n",
              "        const charts = await google.colab.kernel.invokeFunction(\n",
              "            'suggestCharts', [key], {});\n",
              "      } catch (error) {\n",
              "        console.error('Error during call to suggestCharts:', error);\n",
              "      }\n",
              "      quickchartButtonEl.classList.remove('colab-df-spinner');\n",
              "      quickchartButtonEl.classList.add('colab-df-quickchart-complete');\n",
              "    }\n",
              "    (() => {\n",
              "      let quickchartButtonEl =\n",
              "        document.querySelector('#df-80085832-2f28-494e-8aaf-c796029ad3f4 button');\n",
              "      quickchartButtonEl.style.display =\n",
              "        google.colab.kernel.accessAllowed ? 'block' : 'none';\n",
              "    })();\n",
              "  </script>\n",
              "</div>\n",
              "\n",
              "    </div>\n",
              "  </div>\n"
            ],
            "application/vnd.google.colaboratory.intrinsic+json": {
              "type": "dataframe",
              "summary": "{\n  \"name\": \"df_pd\",\n  \"rows\": 8,\n  \"fields\": [\n    {\n      \"column\": \"salario\",\n      \"properties\": {\n        \"dtype\": \"number\",\n        \"std\": 3462.9355300376615,\n        \"min\": -1.0,\n        \"max\": 9969.04068556819,\n        \"num_unique_values\": 8,\n        \"samples\": [\n          5926.859377004101,\n          5959.769343684202,\n          951.0\n        ],\n        \"semantic_type\": \"\",\n        \"description\": \"\"\n      }\n    },\n    {\n      \"column\": \"anos_de_experiencia\",\n      \"properties\": {\n        \"dtype\": \"number\",\n        \"std\": 340.151676424258,\n        \"min\": -1.0,\n        \"max\": 971.0,\n        \"num_unique_values\": 8,\n        \"samples\": [\n          9.853759011328528,\n          10.0,\n          971.0\n        ],\n        \"semantic_type\": \"\",\n        \"description\": \"\"\n      }\n    }\n  ]\n}"
            }
          },
          "metadata": {},
          "execution_count": 41
        }
      ]
    },
    {
      "cell_type": "code",
      "source": [
        "df_pd.count()\n"
      ],
      "metadata": {
        "colab": {
          "base_uri": "https://localhost:8080/",
          "height": 304
        },
        "id": "7MVVf2Hm9xse",
        "outputId": "6e3eea52-30d2-450e-eac5-104785462c5b"
      },
      "execution_count": null,
      "outputs": [
        {
          "output_type": "execute_result",
          "data": {
            "text/plain": [
              "empresa                1000\n",
              "cargo                  1000\n",
              "salario                 951\n",
              "nome                    991\n",
              "sobrenome               990\n",
              "anos_de_experiencia     971\n",
              "resumo_da_funcao       1000\n",
              "dtype: int64"
            ],
            "text/html": [
              "<div>\n",
              "<style scoped>\n",
              "    .dataframe tbody tr th:only-of-type {\n",
              "        vertical-align: middle;\n",
              "    }\n",
              "\n",
              "    .dataframe tbody tr th {\n",
              "        vertical-align: top;\n",
              "    }\n",
              "\n",
              "    .dataframe thead th {\n",
              "        text-align: right;\n",
              "    }\n",
              "</style>\n",
              "<table border=\"1\" class=\"dataframe\">\n",
              "  <thead>\n",
              "    <tr style=\"text-align: right;\">\n",
              "      <th></th>\n",
              "      <th>0</th>\n",
              "    </tr>\n",
              "  </thead>\n",
              "  <tbody>\n",
              "    <tr>\n",
              "      <th>empresa</th>\n",
              "      <td>1000</td>\n",
              "    </tr>\n",
              "    <tr>\n",
              "      <th>cargo</th>\n",
              "      <td>1000</td>\n",
              "    </tr>\n",
              "    <tr>\n",
              "      <th>salario</th>\n",
              "      <td>951</td>\n",
              "    </tr>\n",
              "    <tr>\n",
              "      <th>nome</th>\n",
              "      <td>991</td>\n",
              "    </tr>\n",
              "    <tr>\n",
              "      <th>sobrenome</th>\n",
              "      <td>990</td>\n",
              "    </tr>\n",
              "    <tr>\n",
              "      <th>anos_de_experiencia</th>\n",
              "      <td>971</td>\n",
              "    </tr>\n",
              "    <tr>\n",
              "      <th>resumo_da_funcao</th>\n",
              "      <td>1000</td>\n",
              "    </tr>\n",
              "  </tbody>\n",
              "</table>\n",
              "</div><br><label><b>dtype:</b> int64</label>"
            ]
          },
          "metadata": {},
          "execution_count": 42
        }
      ]
    },
    {
      "cell_type": "code",
      "source": [
        "df_pd['salario'].quantile(q=0.91)"
      ],
      "metadata": {
        "colab": {
          "base_uri": "https://localhost:8080/"
        },
        "id": "4j_TBUOLM6fA",
        "outputId": "eac6c1f4-ae3c-4d51-857f-7453a302f8c2"
      },
      "execution_count": null,
      "outputs": [
        {
          "output_type": "execute_result",
          "data": {
            "text/plain": [
              "9233.176941100975"
            ]
          },
          "metadata": {},
          "execution_count": 43
        }
      ]
    },
    {
      "cell_type": "code",
      "source": [
        "(df_pd['nome'] + ' ' + df_pd['sobrenome']).value_counts()"
      ],
      "metadata": {
        "colab": {
          "base_uri": "https://localhost:8080/",
          "height": 458
        },
        "id": "M1GuFmHXy-zB",
        "outputId": "ae281725-038b-4363-b84b-e3a33f53b07e"
      },
      "execution_count": null,
      "outputs": [
        {
          "output_type": "execute_result",
          "data": {
            "text/plain": [
              "Isabela Rodrigues    19\n",
              "Gabriela Pereira     19\n",
              "Ana Santos           18\n",
              "Ana Souza            16\n",
              "Maria Rodrigues      16\n",
              "                     ..\n",
              "Matheus Martins       5\n",
              "João Pereira          4\n",
              "Maria Silva           4\n",
              "Pedro Pereira         4\n",
              "Gustavo Oliveira      4\n",
              "Name: count, Length: 100, dtype: int64"
            ],
            "text/html": [
              "<div>\n",
              "<style scoped>\n",
              "    .dataframe tbody tr th:only-of-type {\n",
              "        vertical-align: middle;\n",
              "    }\n",
              "\n",
              "    .dataframe tbody tr th {\n",
              "        vertical-align: top;\n",
              "    }\n",
              "\n",
              "    .dataframe thead th {\n",
              "        text-align: right;\n",
              "    }\n",
              "</style>\n",
              "<table border=\"1\" class=\"dataframe\">\n",
              "  <thead>\n",
              "    <tr style=\"text-align: right;\">\n",
              "      <th></th>\n",
              "      <th>count</th>\n",
              "    </tr>\n",
              "  </thead>\n",
              "  <tbody>\n",
              "    <tr>\n",
              "      <th>Isabela Rodrigues</th>\n",
              "      <td>19</td>\n",
              "    </tr>\n",
              "    <tr>\n",
              "      <th>Gabriela Pereira</th>\n",
              "      <td>19</td>\n",
              "    </tr>\n",
              "    <tr>\n",
              "      <th>Ana Santos</th>\n",
              "      <td>18</td>\n",
              "    </tr>\n",
              "    <tr>\n",
              "      <th>Ana Souza</th>\n",
              "      <td>16</td>\n",
              "    </tr>\n",
              "    <tr>\n",
              "      <th>Maria Rodrigues</th>\n",
              "      <td>16</td>\n",
              "    </tr>\n",
              "    <tr>\n",
              "      <th>...</th>\n",
              "      <td>...</td>\n",
              "    </tr>\n",
              "    <tr>\n",
              "      <th>Matheus Martins</th>\n",
              "      <td>5</td>\n",
              "    </tr>\n",
              "    <tr>\n",
              "      <th>João Pereira</th>\n",
              "      <td>4</td>\n",
              "    </tr>\n",
              "    <tr>\n",
              "      <th>Maria Silva</th>\n",
              "      <td>4</td>\n",
              "    </tr>\n",
              "    <tr>\n",
              "      <th>Pedro Pereira</th>\n",
              "      <td>4</td>\n",
              "    </tr>\n",
              "    <tr>\n",
              "      <th>Gustavo Oliveira</th>\n",
              "      <td>4</td>\n",
              "    </tr>\n",
              "  </tbody>\n",
              "</table>\n",
              "<p>100 rows × 1 columns</p>\n",
              "</div><br><label><b>dtype:</b> int64</label>"
            ]
          },
          "metadata": {},
          "execution_count": 44
        }
      ]
    },
    {
      "cell_type": "code",
      "source": [
        "columns = ['empresa', 'cargo', 'nome', 'sobrenome', 'resumo_da_funcao']\n",
        "for i in columns:\n",
        "  print(i, df_pd[i].unique(), '\\n')"
      ],
      "metadata": {
        "colab": {
          "base_uri": "https://localhost:8080/"
        },
        "id": "ITROeJ2Mdm6F",
        "outputId": "b7abe656-d22a-446a-83b4-6abf9fd60e2b"
      },
      "execution_count": null,
      "outputs": [
        {
          "output_type": "stream",
          "name": "stdout",
          "text": [
            "empresa ['Cyberdyne Systems' 'Acme Inc.' 'Wayne Enterprises' 'Stark Enterprises'\n",
            " 'Weyland-Yutani' 'Globex Corp.' 'Stark Industries' 'Umbrella Corporation'\n",
            " 'Oscorp' 'Aperture Science' 'lnnNSf5YDt'] \n",
            "\n",
            "cargo ['Especialista' 'Assistente' 'Estagiário' 'Supervisor' 'Analista'\n",
            " 'Diretor' 'Desenvolvedor' 'Gerente' 'Coordenador' 'Consultor'\n",
            " 's2iOR6wzbFZtK5T'] \n",
            "\n",
            "nome ['Lucas' 'Gustavo' 'João' 'Fernanda' 'Gabriela' 'Pedro' 'Maria' 'Ana'\n",
            " 'Isabela' nan 'Matheus'] \n",
            "\n",
            "sobrenome ['Souza' 'Oliveira' 'Ferreira' 'Santos' 'Rodrigues' 'Silva' nan 'Pereira'\n",
            " 'Costa' 'Martins' 'Almeida'] \n",
            "\n",
            "resumo_da_funcao ['Apoia a equipe em atividades de rotina'\n",
            " 'Analisa dados e gera relatórios'\n",
            " 'Auxilia a equipe em tarefas administrativas'\n",
            " 'Supervisiona a equipe e processos' 'Desenvolve soluções de software'\n",
            " 'Lidera a estratégia e tomada de decisões'\n",
            " 'Responsável pela gestão da equipe e projetos'\n",
            " 'Coordena atividades e projetos'\n",
            " 'Especialista em estratégia e planejamento'\n",
            " 'Presta consultoria em áreas específicas'] \n",
            "\n"
          ]
        }
      ]
    },
    {
      "cell_type": "markdown",
      "source": [
        "# Limpeza dos dados 🧹"
      ],
      "metadata": {
        "id": "Z2hkOxDcIqye"
      }
    },
    {
      "cell_type": "markdown",
      "source": [
        "## Renomeia colunas\n",
        "\n"
      ],
      "metadata": {
        "id": "htIjxvW4STaZ"
      }
    },
    {
      "cell_type": "code",
      "source": [
        "df = (\n",
        "\n",
        "    df\n",
        "    .withColumnRenamed(\"_c0\", \"empresa\")\n",
        "    .withColumnRenamed(\"_c1\", \"cargo\")\n",
        "    .withColumnRenamed(\"_c2\", \"salario\")\n",
        "    .withColumnRenamed(\"_c3\", \"nome\")\n",
        "    .withColumnRenamed(\"_c4\", \"sobrenome\")\n",
        "    .withColumnRenamed(\"_c5\", \"anos_de_experiencia\")\n",
        "    .withColumnRenamed(\"_c6\", \"resumo_da_funcao\")\n",
        "\n",
        "\n",
        "\n",
        ")"
      ],
      "metadata": {
        "id": "qRFowf5JC7_G"
      },
      "execution_count": null,
      "outputs": []
    },
    {
      "cell_type": "markdown",
      "source": [
        "## Exclui primeira linha"
      ],
      "metadata": {
        "id": "9K2gb9wOWJve"
      }
    },
    {
      "cell_type": "code",
      "source": [
        "df = (\n",
        "\n",
        "      df\n",
        "      .withColumn(\"index\", F.monotonically_increasing_id())\n",
        "      .filter(F.col(\"index\") != 0)\n",
        "      .drop(\"index\")\n",
        "\n",
        ")"
      ],
      "metadata": {
        "id": "d3VSqZhlSBe-"
      },
      "execution_count": null,
      "outputs": []
    },
    {
      "cell_type": "markdown",
      "source": [
        "## Retira as linhas com valores nulos"
      ],
      "metadata": {
        "id": "uz0oVCt5X65I"
      }
    },
    {
      "cell_type": "code",
      "source": [
        "df = (\n",
        "    df\n",
        "    .na.drop()\n",
        "\n",
        ")"
      ],
      "metadata": {
        "id": "k3m2mpQsV3MF"
      },
      "execution_count": null,
      "outputs": []
    },
    {
      "cell_type": "markdown",
      "source": [
        "## Retira as duplicatas"
      ],
      "metadata": {
        "id": "IuvBFAjDxp8b"
      }
    },
    {
      "cell_type": "code",
      "source": [
        "df = df.dropDuplicates()\n",
        "df.count()"
      ],
      "metadata": {
        "colab": {
          "base_uri": "https://localhost:8080/"
        },
        "id": "85YCTfpTYvs0",
        "outputId": "4599c59f-12e8-4e58-c014-699660ffb0ad"
      },
      "execution_count": null,
      "outputs": [
        {
          "output_type": "execute_result",
          "data": {
            "text/plain": [
              "908"
            ]
          },
          "metadata": {},
          "execution_count": 49
        }
      ]
    },
    {
      "cell_type": "markdown",
      "source": [
        "## Define o maior tempo de experiência como linha correta"
      ],
      "metadata": {
        "id": "00AEl_u61epC"
      }
    },
    {
      "cell_type": "code",
      "source": [
        "df = (\n",
        "\n",
        "    df\n",
        "    .withColumn(\"nome_completo\", F.concat_ws(\" \", F.col(\"nome\"), F.col(\"sobrenome\")))\n",
        "\n",
        "\n",
        ")\n",
        "\n",
        "\n",
        "window_spec = Window.partitionBy(\"nome_completo\").orderBy(F.col(\"anos_de_experiencia\").desc())\n",
        "df = df.withColumn(\"rank\", F.row_number().over(window_spec))\n",
        "\n",
        "df = df.filter(F.col(\"rank\") == 1).drop(\"rank\", \"nome_completo\")\n",
        "\n",
        "df.show()"
      ],
      "metadata": {
        "id": "YyngAW_aZz0d",
        "colab": {
          "base_uri": "https://localhost:8080/"
        },
        "outputId": "42a7704a-81a9-4c87-e983-083e4c546173"
      },
      "execution_count": null,
      "outputs": [
        {
          "output_type": "stream",
          "name": "stdout",
          "text": [
            "+--------------------+-------------+------------------+--------+---------+-------------------+--------------------+\n",
            "|             empresa|        cargo|           salario|    nome|sobrenome|anos_de_experiencia|    resumo_da_funcao|\n",
            "+--------------------+-------------+------------------+--------+---------+-------------------+--------------------+\n",
            "|              Oscorp| Especialista| 3277.746073162348|     Ana|  Almeida|                8.0|Responsável pela ...|\n",
            "|    Stark Industries|   Supervisor| 6764.052733928409|     Ana|    Costa|                7.0|Supervisiona a eq...|\n",
            "|Umbrella Corporation|   Assistente|3231.0381390691546|     Ana| Ferreira|                5.0|Apoia a equipe em...|\n",
            "|    Aperture Science|      Diretor| 7562.487969540558|     Ana|  Martins|                9.0|Apoia a equipe em...|\n",
            "|    Aperture Science|      Diretor| 9921.601223220283|     Ana| Oliveira|                9.0|Lidera a estratég...|\n",
            "|   Wayne Enterprises|      Gerente| 8122.239940784619|     Ana|  Pereira|                6.0|Auxilia a equipe ...|\n",
            "|           Acme Inc.|Desenvolvedor| 2098.689416703799|     Ana|Rodrigues|                9.0|Apoia a equipe em...|\n",
            "|   Stark Enterprises|     Analista| 9236.666291385087|     Ana|   Santos|                8.0|Auxilia a equipe ...|\n",
            "|   Cyberdyne Systems| Especialista|  5803.17441200113|     Ana|    Silva|                8.0|Supervisiona a eq...|\n",
            "|           Acme Inc.|      Diretor| 3376.012113648084|     Ana|    Souza|                8.0|Apoia a equipe em...|\n",
            "|   Cyberdyne Systems|   Supervisor| 2853.380968442849|Fernanda|  Almeida|                9.0|Responsável pela ...|\n",
            "|   Wayne Enterprises| Especialista| 5143.002537586734|Fernanda|    Costa|                9.0|Responsável pela ...|\n",
            "|              Oscorp|   Estagiário| 9232.823577007646|Fernanda| Ferreira|               19.0|Apoia a equipe em...|\n",
            "|   Cyberdyne Systems|  Coordenador| 5241.579450192214|Fernanda|  Martins|                6.0|Supervisiona a eq...|\n",
            "|   Wayne Enterprises|   Supervisor|   8367.7030631712|Fernanda| Oliveira|                5.0|Lidera a estratég...|\n",
            "|           Acme Inc.|      Diretor|4732.6739896253075|Fernanda|  Pereira|                9.0|Auxilia a equipe ...|\n",
            "|   Wayne Enterprises|   Assistente|    7308.049390052|Fernanda|Rodrigues|                9.0|Especialista em e...|\n",
            "|           Acme Inc.|      Diretor|  9039.61209346331|Fernanda|   Santos|               16.0|Especialista em e...|\n",
            "|   Wayne Enterprises|   Supervisor|3419.7082191818636|Fernanda|    Silva|                8.0|Presta consultori...|\n",
            "|           Acme Inc.|   Estagiário|  4685.92574442085|Fernanda|    Souza|                9.0|Auxilia a equipe ...|\n",
            "+--------------------+-------------+------------------+--------+---------+-------------------+--------------------+\n",
            "only showing top 20 rows\n",
            "\n"
          ]
        }
      ]
    },
    {
      "cell_type": "markdown",
      "source": [
        "## Retira Strings indesejadas"
      ],
      "metadata": {
        "id": "ZnzoUvlDhXIM"
      }
    },
    {
      "cell_type": "code",
      "source": [
        "df = (\n",
        "\n",
        "      df\n",
        "      .filter(F.col(\"empresa\") != 'lnnNSf5YDt')\n",
        "      .filter(F.col(\"cargo\") != 's2iOR6wzbFZtK5T')\n",
        "\n",
        ")\n",
        "\n",
        "df.show()"
      ],
      "metadata": {
        "colab": {
          "base_uri": "https://localhost:8080/"
        },
        "id": "0f5fbLK9dZUF",
        "outputId": "16734c8f-082c-46df-bb00-ed78cecdbeff"
      },
      "execution_count": null,
      "outputs": [
        {
          "output_type": "stream",
          "name": "stdout",
          "text": [
            "+--------------------+-------------+------------------+--------+---------+-------------------+--------------------+\n",
            "|             empresa|        cargo|           salario|    nome|sobrenome|anos_de_experiencia|    resumo_da_funcao|\n",
            "+--------------------+-------------+------------------+--------+---------+-------------------+--------------------+\n",
            "|              Oscorp| Especialista| 3277.746073162348|     Ana|  Almeida|                8.0|Responsável pela ...|\n",
            "|    Stark Industries|   Supervisor| 6764.052733928409|     Ana|    Costa|                7.0|Supervisiona a eq...|\n",
            "|Umbrella Corporation|   Assistente|3231.0381390691546|     Ana| Ferreira|                5.0|Apoia a equipe em...|\n",
            "|    Aperture Science|      Diretor| 7562.487969540558|     Ana|  Martins|                9.0|Apoia a equipe em...|\n",
            "|    Aperture Science|      Diretor| 9921.601223220283|     Ana| Oliveira|                9.0|Lidera a estratég...|\n",
            "|   Wayne Enterprises|      Gerente| 8122.239940784619|     Ana|  Pereira|                6.0|Auxilia a equipe ...|\n",
            "|           Acme Inc.|Desenvolvedor| 2098.689416703799|     Ana|Rodrigues|                9.0|Apoia a equipe em...|\n",
            "|   Stark Enterprises|     Analista| 9236.666291385087|     Ana|   Santos|                8.0|Auxilia a equipe ...|\n",
            "|   Cyberdyne Systems| Especialista|  5803.17441200113|     Ana|    Silva|                8.0|Supervisiona a eq...|\n",
            "|           Acme Inc.|      Diretor| 3376.012113648084|     Ana|    Souza|                8.0|Apoia a equipe em...|\n",
            "|   Cyberdyne Systems|   Supervisor| 2853.380968442849|Fernanda|  Almeida|                9.0|Responsável pela ...|\n",
            "|   Wayne Enterprises| Especialista| 5143.002537586734|Fernanda|    Costa|                9.0|Responsável pela ...|\n",
            "|              Oscorp|   Estagiário| 9232.823577007646|Fernanda| Ferreira|               19.0|Apoia a equipe em...|\n",
            "|   Cyberdyne Systems|  Coordenador| 5241.579450192214|Fernanda|  Martins|                6.0|Supervisiona a eq...|\n",
            "|   Wayne Enterprises|   Supervisor|   8367.7030631712|Fernanda| Oliveira|                5.0|Lidera a estratég...|\n",
            "|           Acme Inc.|      Diretor|4732.6739896253075|Fernanda|  Pereira|                9.0|Auxilia a equipe ...|\n",
            "|   Wayne Enterprises|   Assistente|    7308.049390052|Fernanda|Rodrigues|                9.0|Especialista em e...|\n",
            "|           Acme Inc.|      Diretor|  9039.61209346331|Fernanda|   Santos|               16.0|Especialista em e...|\n",
            "|   Wayne Enterprises|   Supervisor|3419.7082191818636|Fernanda|    Silva|                8.0|Presta consultori...|\n",
            "|           Acme Inc.|   Estagiário|  4685.92574442085|Fernanda|    Souza|                9.0|Auxilia a equipe ...|\n",
            "+--------------------+-------------+------------------+--------+---------+-------------------+--------------------+\n",
            "only showing top 20 rows\n",
            "\n"
          ]
        }
      ]
    },
    {
      "cell_type": "markdown",
      "source": [
        "## Define o tempo de experiência para INT positivo"
      ],
      "metadata": {
        "id": "sIPbW2rVh5gx"
      }
    },
    {
      "cell_type": "code",
      "source": [
        "df = (\n",
        "\n",
        "      df\n",
        "      .filter(F.col(\"anos_de_experiencia\") > 0)\n",
        "      .withColumn(\"anos_de_experiencia\", F.col(\"anos_de_experiencia\").cast(IntegerType()))\n",
        "\n",
        ")\n",
        "\n",
        "df.show()"
      ],
      "metadata": {
        "colab": {
          "base_uri": "https://localhost:8080/"
        },
        "id": "guXlthMwhzN9",
        "outputId": "74b0a7b6-1578-4acf-d8b0-2148d3660abb"
      },
      "execution_count": null,
      "outputs": [
        {
          "output_type": "stream",
          "name": "stdout",
          "text": [
            "+--------------------+-------------+------------------+--------+---------+-------------------+--------------------+\n",
            "|             empresa|        cargo|           salario|    nome|sobrenome|anos_de_experiencia|    resumo_da_funcao|\n",
            "+--------------------+-------------+------------------+--------+---------+-------------------+--------------------+\n",
            "|              Oscorp| Especialista| 3277.746073162348|     Ana|  Almeida|                  8|Responsável pela ...|\n",
            "|    Stark Industries|   Supervisor| 6764.052733928409|     Ana|    Costa|                  7|Supervisiona a eq...|\n",
            "|Umbrella Corporation|   Assistente|3231.0381390691546|     Ana| Ferreira|                  5|Apoia a equipe em...|\n",
            "|    Aperture Science|      Diretor| 7562.487969540558|     Ana|  Martins|                  9|Apoia a equipe em...|\n",
            "|    Aperture Science|      Diretor| 9921.601223220283|     Ana| Oliveira|                  9|Lidera a estratég...|\n",
            "|   Wayne Enterprises|      Gerente| 8122.239940784619|     Ana|  Pereira|                  6|Auxilia a equipe ...|\n",
            "|           Acme Inc.|Desenvolvedor| 2098.689416703799|     Ana|Rodrigues|                  9|Apoia a equipe em...|\n",
            "|   Stark Enterprises|     Analista| 9236.666291385087|     Ana|   Santos|                  8|Auxilia a equipe ...|\n",
            "|   Cyberdyne Systems| Especialista|  5803.17441200113|     Ana|    Silva|                  8|Supervisiona a eq...|\n",
            "|           Acme Inc.|      Diretor| 3376.012113648084|     Ana|    Souza|                  8|Apoia a equipe em...|\n",
            "|   Cyberdyne Systems|   Supervisor| 2853.380968442849|Fernanda|  Almeida|                  9|Responsável pela ...|\n",
            "|   Wayne Enterprises| Especialista| 5143.002537586734|Fernanda|    Costa|                  9|Responsável pela ...|\n",
            "|              Oscorp|   Estagiário| 9232.823577007646|Fernanda| Ferreira|                 19|Apoia a equipe em...|\n",
            "|   Cyberdyne Systems|  Coordenador| 5241.579450192214|Fernanda|  Martins|                  6|Supervisiona a eq...|\n",
            "|   Wayne Enterprises|   Supervisor|   8367.7030631712|Fernanda| Oliveira|                  5|Lidera a estratég...|\n",
            "|           Acme Inc.|      Diretor|4732.6739896253075|Fernanda|  Pereira|                  9|Auxilia a equipe ...|\n",
            "|   Wayne Enterprises|   Assistente|    7308.049390052|Fernanda|Rodrigues|                  9|Especialista em e...|\n",
            "|           Acme Inc.|      Diretor|  9039.61209346331|Fernanda|   Santos|                 16|Especialista em e...|\n",
            "|   Wayne Enterprises|   Supervisor|3419.7082191818636|Fernanda|    Silva|                  8|Presta consultori...|\n",
            "|           Acme Inc.|   Estagiário|  4685.92574442085|Fernanda|    Souza|                  9|Auxilia a equipe ...|\n",
            "+--------------------+-------------+------------------+--------+---------+-------------------+--------------------+\n",
            "only showing top 20 rows\n",
            "\n"
          ]
        }
      ]
    },
    {
      "cell_type": "markdown",
      "source": [
        "## Define o salario para apenas duas casas decimais"
      ],
      "metadata": {
        "id": "RBA_y568jFvL"
      }
    },
    {
      "cell_type": "code",
      "source": [
        "df = (\n",
        "\n",
        "      df\n",
        "      .withColumn(\"salario\", F.round(\"salario\", 2))\n",
        ")\n",
        "\n",
        "df.show()"
      ],
      "metadata": {
        "colab": {
          "base_uri": "https://localhost:8080/"
        },
        "id": "XhII0T_yiZg1",
        "outputId": "a1b85cc2-a655-43e3-efda-d4bdf7a21cd1"
      },
      "execution_count": null,
      "outputs": [
        {
          "output_type": "stream",
          "name": "stdout",
          "text": [
            "+--------------------+-------------+-------+--------+---------+-------------------+--------------------+\n",
            "|             empresa|        cargo|salario|    nome|sobrenome|anos_de_experiencia|    resumo_da_funcao|\n",
            "+--------------------+-------------+-------+--------+---------+-------------------+--------------------+\n",
            "|              Oscorp| Especialista|3277.75|     Ana|  Almeida|                  8|Responsável pela ...|\n",
            "|    Stark Industries|   Supervisor|6764.05|     Ana|    Costa|                  7|Supervisiona a eq...|\n",
            "|Umbrella Corporation|   Assistente|3231.04|     Ana| Ferreira|                  5|Apoia a equipe em...|\n",
            "|    Aperture Science|      Diretor|7562.49|     Ana|  Martins|                  9|Apoia a equipe em...|\n",
            "|    Aperture Science|      Diretor| 9921.6|     Ana| Oliveira|                  9|Lidera a estratég...|\n",
            "|   Wayne Enterprises|      Gerente|8122.24|     Ana|  Pereira|                  6|Auxilia a equipe ...|\n",
            "|           Acme Inc.|Desenvolvedor|2098.69|     Ana|Rodrigues|                  9|Apoia a equipe em...|\n",
            "|   Stark Enterprises|     Analista|9236.67|     Ana|   Santos|                  8|Auxilia a equipe ...|\n",
            "|   Cyberdyne Systems| Especialista|5803.17|     Ana|    Silva|                  8|Supervisiona a eq...|\n",
            "|           Acme Inc.|      Diretor|3376.01|     Ana|    Souza|                  8|Apoia a equipe em...|\n",
            "|   Cyberdyne Systems|   Supervisor|2853.38|Fernanda|  Almeida|                  9|Responsável pela ...|\n",
            "|   Wayne Enterprises| Especialista| 5143.0|Fernanda|    Costa|                  9|Responsável pela ...|\n",
            "|              Oscorp|   Estagiário|9232.82|Fernanda| Ferreira|                 19|Apoia a equipe em...|\n",
            "|   Cyberdyne Systems|  Coordenador|5241.58|Fernanda|  Martins|                  6|Supervisiona a eq...|\n",
            "|   Wayne Enterprises|   Supervisor| 8367.7|Fernanda| Oliveira|                  5|Lidera a estratég...|\n",
            "|           Acme Inc.|      Diretor|4732.67|Fernanda|  Pereira|                  9|Auxilia a equipe ...|\n",
            "|   Wayne Enterprises|   Assistente|7308.05|Fernanda|Rodrigues|                  9|Especialista em e...|\n",
            "|           Acme Inc.|      Diretor|9039.61|Fernanda|   Santos|                 16|Especialista em e...|\n",
            "|   Wayne Enterprises|   Supervisor|3419.71|Fernanda|    Silva|                  8|Presta consultori...|\n",
            "|           Acme Inc.|   Estagiário|4685.93|Fernanda|    Souza|                  9|Auxilia a equipe ...|\n",
            "+--------------------+-------------+-------+--------+---------+-------------------+--------------------+\n",
            "only showing top 20 rows\n",
            "\n"
          ]
        }
      ]
    },
    {
      "cell_type": "markdown",
      "source": [
        "## Remove os outliers de salario usando IQR"
      ],
      "metadata": {
        "id": "wod5mK35lPn-"
      }
    },
    {
      "cell_type": "code",
      "source": [
        "quantiles = df.approxQuantile(\"salario\", [0.25, 0.75], 0.05)\n",
        "q1, q3 = quantiles[0], quantiles[1]\n",
        "iqr = q3 - q1\n",
        "\n",
        "lower_bound = q1 - 1.5 * iqr\n",
        "upper_bound = q3 + 1.5 * iqr\n",
        "\n",
        "df = df.filter(~(F.col(\"salario\") < lower_bound) | (F.col(\"salario\") > upper_bound))\n",
        "\n",
        "df.show()"
      ],
      "metadata": {
        "colab": {
          "base_uri": "https://localhost:8080/"
        },
        "id": "HlhiNbRtlRik",
        "outputId": "f6142749-bd12-458c-fbd6-00a278a1a735"
      },
      "execution_count": null,
      "outputs": [
        {
          "output_type": "stream",
          "name": "stdout",
          "text": [
            "+--------------------+-------------+-------+--------+---------+-------------------+--------------------+\n",
            "|             empresa|        cargo|salario|    nome|sobrenome|anos_de_experiencia|    resumo_da_funcao|\n",
            "+--------------------+-------------+-------+--------+---------+-------------------+--------------------+\n",
            "|              Oscorp| Especialista|3277.75|     Ana|  Almeida|                  8|Responsável pela ...|\n",
            "|    Stark Industries|   Supervisor|6764.05|     Ana|    Costa|                  7|Supervisiona a eq...|\n",
            "|Umbrella Corporation|   Assistente|3231.04|     Ana| Ferreira|                  5|Apoia a equipe em...|\n",
            "|    Aperture Science|      Diretor|7562.49|     Ana|  Martins|                  9|Apoia a equipe em...|\n",
            "|    Aperture Science|      Diretor| 9921.6|     Ana| Oliveira|                  9|Lidera a estratég...|\n",
            "|   Wayne Enterprises|      Gerente|8122.24|     Ana|  Pereira|                  6|Auxilia a equipe ...|\n",
            "|           Acme Inc.|Desenvolvedor|2098.69|     Ana|Rodrigues|                  9|Apoia a equipe em...|\n",
            "|   Stark Enterprises|     Analista|9236.67|     Ana|   Santos|                  8|Auxilia a equipe ...|\n",
            "|   Cyberdyne Systems| Especialista|5803.17|     Ana|    Silva|                  8|Supervisiona a eq...|\n",
            "|           Acme Inc.|      Diretor|3376.01|     Ana|    Souza|                  8|Apoia a equipe em...|\n",
            "|   Cyberdyne Systems|   Supervisor|2853.38|Fernanda|  Almeida|                  9|Responsável pela ...|\n",
            "|   Wayne Enterprises| Especialista| 5143.0|Fernanda|    Costa|                  9|Responsável pela ...|\n",
            "|              Oscorp|   Estagiário|9232.82|Fernanda| Ferreira|                 19|Apoia a equipe em...|\n",
            "|   Cyberdyne Systems|  Coordenador|5241.58|Fernanda|  Martins|                  6|Supervisiona a eq...|\n",
            "|   Wayne Enterprises|   Supervisor| 8367.7|Fernanda| Oliveira|                  5|Lidera a estratég...|\n",
            "|           Acme Inc.|      Diretor|4732.67|Fernanda|  Pereira|                  9|Auxilia a equipe ...|\n",
            "|   Wayne Enterprises|   Assistente|7308.05|Fernanda|Rodrigues|                  9|Especialista em e...|\n",
            "|           Acme Inc.|      Diretor|9039.61|Fernanda|   Santos|                 16|Especialista em e...|\n",
            "|   Wayne Enterprises|   Supervisor|3419.71|Fernanda|    Silva|                  8|Presta consultori...|\n",
            "|           Acme Inc.|   Estagiário|4685.93|Fernanda|    Souza|                  9|Auxilia a equipe ...|\n",
            "+--------------------+-------------+-------+--------+---------+-------------------+--------------------+\n",
            "only showing top 20 rows\n",
            "\n"
          ]
        }
      ]
    }
  ],
  "metadata": {
    "colab": {
      "provenance": [],
      "toc_visible": true
    },
    "kernelspec": {
      "display_name": "Python 3",
      "name": "python3"
    },
    "language_info": {
      "name": "python"
    }
  },
  "nbformat": 4,
  "nbformat_minor": 0
}